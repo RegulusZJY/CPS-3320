{
 "cells": [
  {
   "cell_type": "code",
   "execution_count": 6,
   "id": "49f532d7-a968-4cde-b5da-7a0c0d2f335d",
   "metadata": {},
   "outputs": [],
   "source": [
    "import cv2\n",
    "import numpy as np\n",
    "from keras.preprocessing import image\n",
    "from keras.models import load_model"
   ]
  },
  {
   "cell_type": "code",
   "execution_count": 7,
   "id": "c1e05803-889c-4b6f-9f32-f1c246013c8e",
   "metadata": {},
   "outputs": [],
   "source": [
    "# Load trained model\n",
    "model = load_model(\"model/final_emotion_model.hdf5\", compile=False)"
   ]
  },
  {
   "cell_type": "code",
   "execution_count": 8,
   "id": "510305e4-e328-43cb-b479-fd6092e295f8",
   "metadata": {},
   "outputs": [],
   "source": [
    "# Cascadeclassifier is a classifier provided by OpenCV\n",
    "# HaarCascade can be used to detect human face \n",
    "face_cascade = cv2.CascadeClassifier('model/haarcascade_frontalface_default.xml')"
   ]
  },
  {
   "cell_type": "code",
   "execution_count": 9,
   "id": "3125f1e1-0d87-46fc-96c2-b68e4b692cdf",
   "metadata": {},
   "outputs": [],
   "source": [
    "# VideoCapture, 0 represents laptop's camera, 1 represents USB camera, it can also input video path to recognize emotion in video\n",
    "cap = cv2.VideoCapture(1)"
   ]
  },
  {
   "cell_type": "code",
   "execution_count": 10,
   "id": "950b3818-f988-4771-bfb3-cc2baec9d36f",
   "metadata": {},
   "outputs": [],
   "source": [
    "# Call the camera when it is available\n",
    "while True:\n",
    "    # Read video or camera picture by frame\n",
    "    # ret, frame is cap the two return values of the read (), where ret is a Boolean value. If the read frame is correct, it returns true.\n",
    "    ret, frame = cap.read()\n",
    "    if not ret:\n",
    "        break\n",
    "    # Transfer the image from RGB to gray space and convert it into gray image\n",
    "    gray = cv2.cvtColor(frame, cv2.COLOR_BGR2GRAY)\n",
    "    # Recognize the faces in the image and return the rectangular box vector group of all faces\n",
    "    # To detect objects of different sizes, the length and width are gradually reduced in a certain proportion through the scalefactor parameter\n",
    "    faces = face_cascade.detectMultiScale(gray, 1.32, 2)\n",
    "    \n",
    "    # Frame the face with a rectangle\n",
    "    # Try except to avoid error\n",
    "    try:\n",
    "        for (x,y,w,h) in faces:\n",
    "            cv2.rectangle(frame,(x,y),(x+w,y+h),(0,255,0),2)\n",
    "            # Return the cropped face from the image\n",
    "            roi_gray = gray[y:y+h, x:x+w]\n",
    "            # Convert the image into an array.\n",
    "            # Desired output image size\n",
    "            roi_gray = cv2.resize(roi_gray, (48, 48))\n",
    "            # The element type before conversion is integer and after is floating\n",
    "            pixels = image.img_to_array(roi_gray)\n",
    "            # Processing pixels\n",
    "            pixels = np.expand_dims(pixels, axis = 0)\n",
    "            pixels /= 255\n",
    "           \n",
    "            # Model prediction, input test set, output prediction results\n",
    "            predictions = model.predict(pixels)\n",
    "            # When several maximum values appear in a group, the index value of the first maximum value is returned.\n",
    "            max_index = np.argmax(predictions[0])\n",
    "            emotions = ('angry', 'disgust', 'fear', 'happy', 'sad', 'surprise', 'neutral')\n",
    "            # Returns the index value of the largest value in a numpy array.\n",
    "            pred_emotions = emotions[max_index]\n",
    "            # Print emotion and its confidence value\n",
    "            cv2.putText(frame, pred_emotions, (int(x),int(y-50)), cv2.FONT_HERSHEY_SIMPLEX, 1, (0,255,0), 2)       \n",
    "            confidence = 'Confidence: {}'.format(str(np.round(np.max(predictions[0])*100,1))+ \"%\")\n",
    "            cv2.putText(frame, confidence, (int(x),int(y-10)), cv2.FONT_HERSHEY_SIMPLEX, 1, (0,255,0), 2)\n",
    "    except:\n",
    "        pass\n",
    "    # Frame size\n",
    "    resized_frame = cv2.resize(frame, (1100, 800))\n",
    "    cv2.imshow('frame', resized_frame)\n",
    "    # Press the 'z' key on the keyboard to close the program\n",
    "    if cv2.waitKey(1) & 0xFF == ord('z'):\n",
    "        break\n",
    "cap.release() # Stop capturing video\n",
    "cv2.destroyAllWindows() # Close the corresponding window"
   ]
  }
 ],
 "metadata": {
  "kernelspec": {
   "display_name": "Python 3",
   "language": "python",
   "name": "python3"
  },
  "language_info": {
   "codemirror_mode": {
    "name": "ipython",
    "version": 3
   },
   "file_extension": ".py",
   "mimetype": "text/x-python",
   "name": "python",
   "nbconvert_exporter": "python",
   "pygments_lexer": "ipython3",
   "version": "3.8.8"
  }
 },
 "nbformat": 4,
 "nbformat_minor": 5
}
