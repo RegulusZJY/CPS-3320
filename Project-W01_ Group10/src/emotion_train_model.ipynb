{
 "cells": [
  {
   "cell_type": "code",
   "execution_count": 1,
   "id": "64388c7e-94fd-4cfe-95dd-5f8582c1c97e",
   "metadata": {},
   "outputs": [],
   "source": [
    "import numpy as np\n",
    "import pandas as pd\n",
    "from keras.models import Sequential\n",
    "from keras.layers import Conv2D,Dense,Dropout,Flatten,MaxPooling2D,BatchNormalization\n",
    "from keras.losses import categorical_crossentropy\n",
    "from keras.optimizers import Adam\n",
    "from keras.utils import np_utils"
   ]
  },
  {
   "cell_type": "code",
   "execution_count": 2,
   "id": "88c23f19-8065-4ea1-96eb-26ebc51b6a61",
   "metadata": {},
   "outputs": [
    {
     "name": "stdout",
     "output_type": "stream",
     "text": [
      "<class 'pandas.core.frame.DataFrame'>\n",
      "RangeIndex: 71769 entries, 0 to 71768\n",
      "Data columns (total 3 columns):\n",
      " #   Column   Non-Null Count  Dtype \n",
      "---  ------   --------------  ----- \n",
      " 0   emotion  71769 non-null  int64 \n",
      " 1   pixels   71769 non-null  object\n",
      " 2   Usage    71769 non-null  object\n",
      "dtypes: int64(1), object(2)\n",
      "memory usage: 1.6+ MB\n",
      "None\n"
     ]
    }
   ],
   "source": [
    "# Use pandas to read and load csv file, print its infomation\n",
    "Data=pd.read_csv('merge_data.csv') # merge_data is merged by 2 emotion datasets, has more samples\n",
    "# Check data infomation, searching missing value\n",
    "print(Data.info())"
   ]
  },
  {
   "cell_type": "code",
   "execution_count": 3,
   "id": "7f47e1a2-2695-4681-89e4-4b947ef6faee",
   "metadata": {},
   "outputs": [
    {
     "name": "stdout",
     "output_type": "stream",
     "text": [
      "Training    57414\n",
      "Test        14355\n",
      "Name: Usage, dtype: int64\n"
     ]
    }
   ],
   "source": [
    "# Print counts of data value in column 'Usage'\n",
    "print(Data['Usage'].value_counts())"
   ]
  },
  {
   "cell_type": "code",
   "execution_count": 7,
   "id": "f9a080b4-93fe-474f-bdd7-35f116495e85",
   "metadata": {},
   "outputs": [
    {
     "name": "stdout",
     "output_type": "stream",
     "text": [
      "       emotion                                             pixels     Usage\n",
      "0            0  70 80 82 72 58 58 60 63 54 58 60 48 89 115 121...  Training\n",
      "1            0  151 150 147 155 148 133 111 140 170 174 182 15...  Training\n",
      "2            2  231 212 156 164 174 138 161 173 182 200 106 38...  Training\n",
      "3            4  24 32 36 30 32 23 19 20 30 41 21 22 32 34 21 1...  Training\n",
      "4            6  4 0 0 0 0 0 0 0 0 0 0 0 3 15 23 28 48 50 58 84...  Training\n",
      "...        ...                                                ...       ...\n",
      "71764        0  25 21 21 18 30 102 144 147 150 161 179 179 178...      Test\n",
      "71765        0  117 115 96 99 141 160 165 175 182 179 185 193 ...      Test\n",
      "71766        5  184 178 153 83 83 106 93 81 102 103 82 119 111...      Test\n",
      "71767        2  205 219 122 42 55 56 58 57 81 90 81 93 111 120...      Test\n",
      "71768        6  216 154 144 220 233 220 213 208 204 200 196 19...      Test\n",
      "\n",
      "[71769 rows x 3 columns]\n"
     ]
    }
   ],
   "source": [
    "# Show data detailed infomarion\n",
    "print(Data)"
   ]
  },
  {
   "cell_type": "code",
   "execution_count": 5,
   "id": "1d59d87d-6099-4298-a79f-e837c94bef4e",
   "metadata": {},
   "outputs": [
    {
     "data": {
      "text/html": [
       "<div>\n",
       "<style scoped>\n",
       "    .dataframe tbody tr th:only-of-type {\n",
       "        vertical-align: middle;\n",
       "    }\n",
       "\n",
       "    .dataframe tbody tr th {\n",
       "        vertical-align: top;\n",
       "    }\n",
       "\n",
       "    .dataframe thead th {\n",
       "        text-align: right;\n",
       "    }\n",
       "</style>\n",
       "<table border=\"1\" class=\"dataframe\">\n",
       "  <thead>\n",
       "    <tr style=\"text-align: right;\">\n",
       "      <th></th>\n",
       "      <th>emotion</th>\n",
       "      <th>pixels</th>\n",
       "      <th>Usage</th>\n",
       "    </tr>\n",
       "  </thead>\n",
       "  <tbody>\n",
       "    <tr>\n",
       "      <th>0</th>\n",
       "      <td>0</td>\n",
       "      <td>70 80 82 72 58 58 60 63 54 58 60 48 89 115 121...</td>\n",
       "      <td>Training</td>\n",
       "    </tr>\n",
       "    <tr>\n",
       "      <th>1</th>\n",
       "      <td>0</td>\n",
       "      <td>151 150 147 155 148 133 111 140 170 174 182 15...</td>\n",
       "      <td>Training</td>\n",
       "    </tr>\n",
       "    <tr>\n",
       "      <th>2</th>\n",
       "      <td>2</td>\n",
       "      <td>231 212 156 164 174 138 161 173 182 200 106 38...</td>\n",
       "      <td>Training</td>\n",
       "    </tr>\n",
       "    <tr>\n",
       "      <th>3</th>\n",
       "      <td>4</td>\n",
       "      <td>24 32 36 30 32 23 19 20 30 41 21 22 32 34 21 1...</td>\n",
       "      <td>Training</td>\n",
       "    </tr>\n",
       "    <tr>\n",
       "      <th>4</th>\n",
       "      <td>6</td>\n",
       "      <td>4 0 0 0 0 0 0 0 0 0 0 0 3 15 23 28 48 50 58 84...</td>\n",
       "      <td>Training</td>\n",
       "    </tr>\n",
       "    <tr>\n",
       "      <th>...</th>\n",
       "      <td>...</td>\n",
       "      <td>...</td>\n",
       "      <td>...</td>\n",
       "    </tr>\n",
       "    <tr>\n",
       "      <th>71764</th>\n",
       "      <td>0</td>\n",
       "      <td>25 21 21 18 30 102 144 147 150 161 179 179 178...</td>\n",
       "      <td>Test</td>\n",
       "    </tr>\n",
       "    <tr>\n",
       "      <th>71765</th>\n",
       "      <td>0</td>\n",
       "      <td>117 115 96 99 141 160 165 175 182 179 185 193 ...</td>\n",
       "      <td>Test</td>\n",
       "    </tr>\n",
       "    <tr>\n",
       "      <th>71766</th>\n",
       "      <td>5</td>\n",
       "      <td>184 178 153 83 83 106 93 81 102 103 82 119 111...</td>\n",
       "      <td>Test</td>\n",
       "    </tr>\n",
       "    <tr>\n",
       "      <th>71767</th>\n",
       "      <td>2</td>\n",
       "      <td>205 219 122 42 55 56 58 57 81 90 81 93 111 120...</td>\n",
       "      <td>Test</td>\n",
       "    </tr>\n",
       "    <tr>\n",
       "      <th>71768</th>\n",
       "      <td>6</td>\n",
       "      <td>216 154 144 220 233 220 213 208 204 200 196 19...</td>\n",
       "      <td>Test</td>\n",
       "    </tr>\n",
       "  </tbody>\n",
       "</table>\n",
       "<p>71769 rows × 3 columns</p>\n",
       "</div>"
      ],
      "text/plain": [
       "       emotion                                             pixels     Usage\n",
       "0            0  70 80 82 72 58 58 60 63 54 58 60 48 89 115 121...  Training\n",
       "1            0  151 150 147 155 148 133 111 140 170 174 182 15...  Training\n",
       "2            2  231 212 156 164 174 138 161 173 182 200 106 38...  Training\n",
       "3            4  24 32 36 30 32 23 19 20 30 41 21 22 32 34 21 1...  Training\n",
       "4            6  4 0 0 0 0 0 0 0 0 0 0 0 3 15 23 28 48 50 58 84...  Training\n",
       "...        ...                                                ...       ...\n",
       "71764        0  25 21 21 18 30 102 144 147 150 161 179 179 178...      Test\n",
       "71765        0  117 115 96 99 141 160 165 175 182 179 185 193 ...      Test\n",
       "71766        5  184 178 153 83 83 106 93 81 102 103 82 119 111...      Test\n",
       "71767        2  205 219 122 42 55 56 58 57 81 90 81 93 111 120...      Test\n",
       "71768        6  216 154 144 220 233 220 213 208 204 200 196 19...      Test\n",
       "\n",
       "[71769 rows x 3 columns]"
      ]
     },
     "execution_count": 5,
     "metadata": {},
     "output_type": "execute_result"
    }
   ],
   "source": [
    "Data"
   ]
  },
  {
   "cell_type": "code",
   "execution_count": 8,
   "id": "8364413f-d10a-418f-9f93-30fd66ce885b",
   "metadata": {},
   "outputs": [],
   "source": [
    "# Construct new array for train and test set\n",
    "X_train,Y_train,X_test,Y_test=[],[],[],[]"
   ]
  },
  {
   "cell_type": "code",
   "execution_count": 9,
   "id": "33ab7066-5688-47d6-bfaa-d96c6740601e",
   "metadata": {},
   "outputs": [],
   "source": [
    "# Split the data by specifying space and return the split list iteratively. The data in this column is pixel information\n",
    "for index,row in Data.iterrows():\n",
    "    val=row['pixels'].split(' ')\n",
    "    # Trt except to catch error\n",
    "    # Catching and adding data to array\n",
    "    try:\n",
    "        if 'Training' in row['Usage']:\n",
    "            X_train.append(np.array(val,'float32'))\n",
    "            Y_train.append(row['emotion'])\n",
    "        elif 'Test' in row['Usage']:\n",
    "            X_test.append(np.array(val,'float32'))\n",
    "            Y_test.append(row['emotion'])\n",
    "    except:\n",
    "        pass"
   ]
  },
  {
   "cell_type": "code",
   "execution_count": 10,
   "id": "b21a56fc-6508-4183-b03b-31c688cbaba3",
   "metadata": {},
   "outputs": [],
   "source": [
    "# Transfer Data set into Keras form\n",
    "X_train = np.array(X_train,'float32')\n",
    "Y_train = np.array(Y_train,'float32')\n",
    "X_test = np.array(X_test,'float32')\n",
    "Y_test = np.array(Y_test,'float32')"
   ]
  },
  {
   "cell_type": "code",
   "execution_count": 11,
   "id": "35f828d4-582c-4f27-bc5d-22607421a436",
   "metadata": {},
   "outputs": [],
   "source": [
    "# Data preprocessing\n",
    "# Carry out data standardization, mean value processing and standard deviation correction\n",
    "X_train -= np.mean(X_train,axis=0) # Calculate the mean value of each column\n",
    "X_train /= np.std(X_train,axis=0) # Calculate the standard deviation of each column\n",
    "\n",
    "X_test -= np.mean(X_test,axis=0) # Calculate the mean value of each column\n",
    "X_test /= np.std(X_test,axis=0) # Calculate the standard deviation of each column"
   ]
  },
  {
   "cell_type": "code",
   "execution_count": 12,
   "id": "1174913d-07c3-4f83-ac6a-f16e686bb81b",
   "metadata": {},
   "outputs": [],
   "source": [
    "# Convert labels to one-hot encoding\n",
    "labels = 7 # There are 7 emotions will be output\n",
    "# One-hot encoding conversion for data labels\n",
    "Y_train = np_utils.to_categorical(Y_train,num_classes=labels)\n",
    "Y_test = np_utils.to_categorical(Y_test,num_classes=labels)"
   ]
  },
  {
   "cell_type": "code",
   "execution_count": 13,
   "id": "f9f77306-ce80-469f-bb8e-9165fde65f0d",
   "metadata": {},
   "outputs": [],
   "source": [
    "filters = 64 # Number of filters for convolution\n",
    "batch_size = 256\n",
    "epochs = 20\n",
    "width,height = 48,48 # Pictures' pixels size: 48*48"
   ]
  },
  {
   "cell_type": "code",
   "execution_count": 14,
   "id": "739e82fb-fc88-498c-b559-68ead677532c",
   "metadata": {},
   "outputs": [],
   "source": [
    "# Generate new list, modify data\n",
    "X_train = X_train.reshape(X_train.shape[0],width,height,1) # Give the array a new shape without changing the data\n",
    "X_test = X_test.reshape(X_test.shape[0],width,height,1) # The elements are changed into several small matrices of 48*48"
   ]
  },
  {
   "cell_type": "code",
   "execution_count": 15,
   "id": "20059dbb-b06d-4957-a465-b82e24f8fbb9",
   "metadata": {},
   "outputs": [
    {
     "name": "stdout",
     "output_type": "stream",
     "text": [
      "Model: \"sequential\"\n",
      "_________________________________________________________________\n",
      "Layer (type)                 Output Shape              Param #   \n",
      "=================================================================\n",
      "conv2d (Conv2D)              (None, 46, 46, 64)        640       \n",
      "_________________________________________________________________\n",
      "batch_normalization (BatchNo (None, 46, 46, 64)        256       \n",
      "_________________________________________________________________\n",
      "conv2d_1 (Conv2D)            (None, 44, 44, 64)        36928     \n",
      "_________________________________________________________________\n",
      "batch_normalization_1 (Batch (None, 44, 44, 64)        256       \n",
      "_________________________________________________________________\n",
      "max_pooling2d (MaxPooling2D) (None, 22, 22, 64)        0         \n",
      "_________________________________________________________________\n",
      "dropout (Dropout)            (None, 22, 22, 64)        0         \n",
      "_________________________________________________________________\n",
      "conv2d_2 (Conv2D)            (None, 20, 20, 128)       73856     \n",
      "_________________________________________________________________\n",
      "batch_normalization_2 (Batch (None, 20, 20, 128)       512       \n",
      "_________________________________________________________________\n",
      "conv2d_3 (Conv2D)            (None, 18, 18, 128)       147584    \n",
      "_________________________________________________________________\n",
      "batch_normalization_3 (Batch (None, 18, 18, 128)       512       \n",
      "_________________________________________________________________\n",
      "max_pooling2d_1 (MaxPooling2 (None, 9, 9, 128)         0         \n",
      "_________________________________________________________________\n",
      "dropout_1 (Dropout)          (None, 9, 9, 128)         0         \n",
      "_________________________________________________________________\n",
      "conv2d_4 (Conv2D)            (None, 7, 7, 256)         295168    \n",
      "_________________________________________________________________\n",
      "batch_normalization_4 (Batch (None, 7, 7, 256)         1024      \n",
      "_________________________________________________________________\n",
      "conv2d_5 (Conv2D)            (None, 5, 5, 256)         590080    \n",
      "_________________________________________________________________\n",
      "batch_normalization_5 (Batch (None, 5, 5, 256)         1024      \n",
      "_________________________________________________________________\n",
      "max_pooling2d_2 (MaxPooling2 (None, 2, 2, 256)         0         \n",
      "_________________________________________________________________\n",
      "flatten (Flatten)            (None, 1024)              0         \n",
      "_________________________________________________________________\n",
      "dense (Dense)                (None, 1024)              1049600   \n",
      "_________________________________________________________________\n",
      "dropout_2 (Dropout)          (None, 1024)              0         \n",
      "_________________________________________________________________\n",
      "dense_1 (Dense)              (None, 7)                 7175      \n",
      "=================================================================\n",
      "Total params: 2,204,615\n",
      "Trainable params: 2,202,823\n",
      "Non-trainable params: 1,792\n",
      "_________________________________________________________________\n"
     ]
    }
   ],
   "source": [
    "# Build CNN\n",
    "\"\"\"\n",
    "Convolution takes local features.\n",
    "The function of the convolution layer\n",
    "is to determine the valuable convolution kernels of the features of the picture \n",
    "by constantly changing the convolution kernels and then\n",
    "multiplying them with the corresponding convolution kernels to obtain the matrix\n",
    "Max-pooling is to extract several features from a filter\n",
    "only the max pooling layer is obtained as the reserved value, and all other weak values are discarded\n",
    "\"\"\"\n",
    "# 1st layer\n",
    "model = Sequential()\n",
    "model.add(Conv2D(filters, kernel_size=(3, 3),activation='relu',input_shape=(X_train.shape[1:])))\n",
    "model.add(BatchNormalization())\n",
    "model.add(Conv2D(filters, kernel_size=(3, 3),activation='relu'))\n",
    "model.add(BatchNormalization())\n",
    "model.add(MaxPooling2D(pool_size=(2,2),strides=(2,2)))\n",
    "model.add(Dropout(0.25)) # Reduce the over fitting, because it will not rely too much on some local features, making the model more generalized\n",
    "\n",
    "# 2nd layer\n",
    "'''\n",
    "In the process of downsampling, the number of filters increases,\n",
    "which seems to better summarize the high-level features\n",
    "and make up for the loss of information caused by the decline of resolution,\n",
    "so increase filters number\n",
    "'''\n",
    "model.add(Conv2D(2*filters, kernel_size=(3, 3),activation='relu'))\n",
    "model.add(BatchNormalization())\n",
    "model.add(Conv2D(2*filters, kernel_size=(3, 3),activation='relu'))\n",
    "model.add(BatchNormalization())\n",
    "model.add(MaxPooling2D(pool_size=(2,2),strides=(2,2)))\n",
    "model.add(Dropout(0.25))\n",
    "\n",
    "# 3rd layer\n",
    "model.add(Conv2D(4*filters, kernel_size=(3, 3),activation='relu'))\n",
    "model.add(BatchNormalization())\n",
    "model.add(Conv2D(4*filters, kernel_size=(3, 3),activation='relu'))\n",
    "model.add(BatchNormalization())\n",
    "model.add(MaxPooling2D(pool_size=(2,2),strides=(2,2)))\n",
    "\n",
    "model.add(Flatten())\n",
    "model.add(Dense(2*2*2*2*filters,activation='relu'))\n",
    "model.add(Dropout(0.2))\n",
    "\n",
    "model.add(Dense(labels,activation='softmax'))\n",
    "# Summary and print model information and parameter\n",
    "model.summary()\n",
    "# Define loss function, optimizer, and calculate accuracy\n",
    "model.compile(loss='categorical_crossentropy',\n",
    "              optimizer='adam',\n",
    "              metrics=['accuracy']\n",
    "             )"
   ]
  },
  {
   "cell_type": "code",
   "execution_count": 16,
   "id": "3a7e7202-993f-40a7-a233-70ed81307670",
   "metadata": {},
   "outputs": [
    {
     "name": "stdout",
     "output_type": "stream",
     "text": [
      "Epoch 1/20\n",
      "225/225 [==============================] - 628s 3s/step - loss: 1.7784 - accuracy: 0.3508 - val_loss: 2.0237 - val_accuracy: 0.2458\n",
      "Epoch 2/20\n",
      "225/225 [==============================] - 646s 3s/step - loss: 1.2192 - accuracy: 0.5385 - val_loss: 1.4579 - val_accuracy: 0.4582\n",
      "Epoch 3/20\n",
      "225/225 [==============================] - 600s 3s/step - loss: 0.9833 - accuracy: 0.6293 - val_loss: 0.9880 - val_accuracy: 0.6311\n",
      "Epoch 4/20\n",
      "225/225 [==============================] - 601s 3s/step - loss: 0.8123 - accuracy: 0.6984 - val_loss: 0.8103 - val_accuracy: 0.7037\n",
      "Epoch 5/20\n",
      "225/225 [==============================] - 611s 3s/step - loss: 0.6490 - accuracy: 0.7655 - val_loss: 0.6975 - val_accuracy: 0.7540\n",
      "Epoch 6/20\n",
      "225/225 [==============================] - 580s 3s/step - loss: 0.4947 - accuracy: 0.8261 - val_loss: 0.6661 - val_accuracy: 0.7821\n",
      "Epoch 7/20\n",
      "225/225 [==============================] - 570s 3s/step - loss: 0.3829 - accuracy: 0.8673 - val_loss: 0.5848 - val_accuracy: 0.8223\n",
      "Epoch 8/20\n",
      "225/225 [==============================] - 578s 3s/step - loss: 0.2818 - accuracy: 0.9016 - val_loss: 0.5325 - val_accuracy: 0.8470\n",
      "Epoch 9/20\n",
      "225/225 [==============================] - 576s 3s/step - loss: 0.2196 - accuracy: 0.9247 - val_loss: 0.5148 - val_accuracy: 0.8667\n",
      "Epoch 10/20\n",
      "225/225 [==============================] - 573s 3s/step - loss: 0.1778 - accuracy: 0.9408 - val_loss: 0.5351 - val_accuracy: 0.8699\n",
      "Epoch 11/20\n",
      "225/225 [==============================] - 586s 3s/step - loss: 0.1507 - accuracy: 0.9501 - val_loss: 0.5346 - val_accuracy: 0.8761\n",
      "Epoch 12/20\n",
      "225/225 [==============================] - 589s 3s/step - loss: 0.1301 - accuracy: 0.9570 - val_loss: 0.5063 - val_accuracy: 0.8816\n",
      "Epoch 13/20\n",
      "225/225 [==============================] - 589s 3s/step - loss: 0.1161 - accuracy: 0.9606 - val_loss: 0.5579 - val_accuracy: 0.8887\n",
      "Epoch 14/20\n",
      "225/225 [==============================] - 584s 3s/step - loss: 0.1047 - accuracy: 0.9648 - val_loss: 0.5687 - val_accuracy: 0.8896\n",
      "Epoch 15/20\n",
      "225/225 [==============================] - 593s 3s/step - loss: 0.1004 - accuracy: 0.9672 - val_loss: 0.5686 - val_accuracy: 0.8912\n",
      "Epoch 16/20\n",
      "225/225 [==============================] - 582s 3s/step - loss: 0.0953 - accuracy: 0.9686 - val_loss: 0.6227 - val_accuracy: 0.8830\n",
      "Epoch 17/20\n",
      "225/225 [==============================] - 581s 3s/step - loss: 0.0926 - accuracy: 0.9688 - val_loss: 0.6045 - val_accuracy: 0.8879\n",
      "Epoch 18/20\n",
      "225/225 [==============================] - 591s 3s/step - loss: 0.0902 - accuracy: 0.9696 - val_loss: 0.5894 - val_accuracy: 0.8897\n",
      "Epoch 19/20\n",
      "225/225 [==============================] - 593s 3s/step - loss: 0.0881 - accuracy: 0.9705 - val_loss: 0.5832 - val_accuracy: 0.8914\n",
      "Epoch 20/20\n",
      "225/225 [==============================] - 600s 3s/step - loss: 0.0824 - accuracy: 0.9718 - val_loss: 0.5870 - val_accuracy: 0.8894\n"
     ]
    }
   ],
   "source": [
    "# History records the changes of loss function and other indicators with epoch\n",
    "# It also includes the changes of these indicators in the verification set\n",
    "history=model.fit(X_train,\n",
    "          Y_train,\n",
    "          batch_size=batch_size,\n",
    "          epochs=epochs,\n",
    "          verbose=1,\n",
    "          validation_data=(X_test,Y_test),\n",
    "          shuffle=True)"
   ]
  },
  {
   "cell_type": "code",
   "execution_count": 17,
   "id": "3fc81664-db9a-4c52-8f3b-4b5a8d13c65a",
   "metadata": {},
   "outputs": [
    {
     "data": {
      "image/png": "[encoded data removed]",
      "text/plain": [
       "<Figure size 432x288 with 1 Axes>"
      ]
     },
     "metadata": {
      "needs_background": "light"
     },
     "output_type": "display_data"
    }
   ],
   "source": [
    "# The highest accuracy rate of the previous presentation is close to 60%.\n",
    "# With the addition of data sets, the accuracy rate has been greatly improved.\n",
    "# The result of 20 training times is close to 90%. This is our progress\n",
    "import matplotlib.pyplot as plt\n",
    "# Plot loss of the history\n",
    "plt.plot(history.history['loss'])\n",
    "plt.plot(history.history['val_loss'])\n",
    "plt.title('Model Loss')\n",
    "plt.ylabel('Loss')\n",
    "plt.xlabel('Epoch')\n",
    "plt.legend(['loss', 'val_loss'], loc='upper left')\n",
    "plt.show()"
   ]
  },
  {
   "cell_type": "code",
   "execution_count": 18,
   "id": "ae78dfa0-4845-4498-ace5-8b0969422f34",
   "metadata": {
    "tags": []
   },
   "outputs": [
    {
     "data": {
      "image/png": "[encoded data removed]",
      "text/plain": [
       "<Figure size 432x288 with 1 Axes>"
      ]
     },
     "metadata": {
      "needs_background": "light"
     },
     "output_type": "display_data"
    }
   ],
   "source": [
    "# Plot accuracy of the history\n",
    "plt.plot(history.history['accuracy'])\n",
    "plt.plot(history.history['val_accuracy'])\n",
    "plt.title('Model Accuracy')\n",
    "plt.ylabel('Accuracy')\n",
    "plt.xlabel('Epoch')\n",
    "plt.legend(['accuracy', 'val_accuracy'], loc='upper left')\n",
    "plt.show()"
   ]
  },
  {
   "cell_type": "code",
   "execution_count": 19,
   "id": "df87bb85-7a4f-4ec2-a37f-b58a4fb9c0d6",
   "metadata": {},
   "outputs": [],
   "source": [
    "# Save the model are saved, including model weights and graph structure\n",
    "model.save('final_emotion_model.hdf5')"
   ]
  }
 ],
 "metadata": {
  "kernelspec": {
   "display_name": "Python 3",
   "language": "python",
   "name": "python3"
  },
  "language_info": {
   "codemirror_mode": {
    "name": "ipython",
    "version": 3
   },
   "file_extension": ".py",
   "mimetype": "text/x-python",
   "name": "python",
   "nbconvert_exporter": "python",
   "pygments_lexer": "ipython3",
   "version": "3.8.8"
  }
 },
 "nbformat": 4,
 "nbformat_minor": 5
}
